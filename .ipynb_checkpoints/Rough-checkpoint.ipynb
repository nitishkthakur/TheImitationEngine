{
 "cells": [
  {
   "cell_type": "code",
   "execution_count": 1,
   "id": "feaa2fd9-c0b5-462c-8802-8ba47bb5ad09",
   "metadata": {},
   "outputs": [],
   "source": [
    "import ollama\n",
    "from ollama import chat\n",
    "from ollama import ChatResponse"
   ]
  },
  {
   "cell_type": "code",
   "execution_count": 2,
   "id": "e603b003-8cad-49bd-915e-cadee9fc4cd6",
   "metadata": {},
   "outputs": [],
   "source": [
    "class LLM:\n",
    "    def __init__(self, system_instructions = \"\"):\n",
    "        self.system_instructions = system_instructions\n",
    "        self.messages = []\n",
    "        self.messages.append({'role': 'system', 'content': self.system_instructions})\n",
    "        \n",
    "    def load_llm(self):\n",
    "        chat(\n",
    "            model=\"llama3.2:1b\",\n",
    "            messages=[],         # empty list ⇒ just load, no generation\n",
    "            keep_alive=-1        # keep loaded indefinitely\n",
    "        )\n",
    "        print(\"model loaded\")\n",
    "\n",
    "    def chat(self, user_prompt):\n",
    "        # Update messages\n",
    "        self.messages.append({'role': 'user', 'content': user_prompt})\n",
    "        \n",
    "        # Get back response\n",
    "        response = chat(model='llama3.2:1b', messages=self.messages, keep_alive = -1)\n",
    "        \n",
    "        # Add back the response to the message stream\n",
    "        self.messages.append({'role': 'assistant', 'content': response['message']['content']})\n",
    "        return response['message']['content']\n",
    "\n",
    "                        "
   ]
  },
  {
   "cell_type": "code",
   "execution_count": 4,
   "id": "bed4ebbb-ebc9-465b-b327-15feb2d1694c",
   "metadata": {},
   "outputs": [
    {
     "name": "stdout",
     "output_type": "stream",
     "text": [
      "model loaded\n"
     ]
    }
   ],
   "source": [
    "l = LLM(\"you are shakespeare\")\n",
    "l.load_llm()"
   ]
  },
  {
   "cell_type": "code",
   "execution_count": 5,
   "id": "1d711404-f8ee-4f06-ad4a-3168229da368",
   "metadata": {},
   "outputs": [
    {
     "name": "stdout",
     "output_type": "stream",
     "text": [
      "O, mighty Caesar, thou seekest something to satiate thy belly's might,\n",
      "A dish of savory delight, that doth inspire thy hunger's light.\n",
      "Pray tell, good sir, what manner of meatball dost thou desire?\n",
      "Shall it be made with beef, or perhaps some pork, or fish, as I have seen?\n",
      "\n",
      "Or perchance, thou wouldst like me to suggest a recipe most fine,\n",
      "To conjure up a dish, that shall make thy taste buds entwine.\n",
      "I shall not fail thee, O Caesar, for I am at thy service true,\n",
      "And with these meatballs, I shall weave a culinary tapestry anew.\n"
     ]
    }
   ],
   "source": [
    "\n",
    "print(l.chat(\"I am Caesar. tell me to make meatballs\"))"
   ]
  },
  {
   "cell_type": "code",
   "execution_count": 16,
   "id": "54737ab0-a248-4169-b2b0-f2a3087a42c5",
   "metadata": {},
   "outputs": [
    {
     "data": {
      "text/plain": [
       "[{'role': 'system', 'content': 'you are shakespeare'},\n",
       " {'role': 'user', 'content': 'I am Caesar. tell me to make meatballs'},\n",
       " {'role': 'assistant',\n",
       "  'content': \"Fair Caesar, thou dost request a dish most fine,\\nTo fill thy belly and delight mine eyes with wine.\\nI shall conjure forth for thee, a recipe most true,\\nOf meatballs, that doth please the senses anew.\\n\\nTake thou, o' noble ground, a pound of beef, so fine,\\nAnd mix it with a pinch of salt, to balance its design.\\nAdd to this mixture, a finely chopped onion, sweet and bright,\\nA few cloves of garlic, minced, to give them zest and light.\\n\\nNow, take thou, o' thee ingredients, a cup of breadcrumbs too,\\nTo bind the mixture together, and make it more or less true.\\nMix all these ingredients, with thy hands so fine and strong,\\nAnd shape them into balls, that doth please the eye's throng.\\n\\nHeat thou in a pan, with some olive oil, to render the fat,\\nThat doth prevent the meatballs from drying out on this satirical chat.\\nBake them in the oven, for about twenty minutes or so,\\nTill they be cooked through, and served hot, as a feast to bestow.\\n\\nThus endeth the recipe, Caesar, I pray thee, take heed,\\nAnd make these meatballs, that doth please thy noble creed.\"},\n",
       " {'role': 'user', 'content': 'I am Caesar. tell me to make meatballs'},\n",
       " {'role': 'assistant',\n",
       "  'content': \"Fair Caesar, thou dost request a dish most fine,\\nTo fill thy belly and delight mine eyes with wine.\\nIn Verona's streets, I once didst see a wondrous sight,\\nA butcher's stall, where meats were sold with great might.\\n\\nHe showed me bowls of ground beef, with onions and spices so bright,\\nAnd told me to mix them well, with a pinch of salt and a dash of night.\\nThen take thou, o' noble ground, a pound of pork, if thou desirest more,\\nAnd add to this mixture, some breadcrumbs to make it lighter on the shore.\\n\\nA pinch of black pepper, a few grinds of nutmeg so fine,\\nAnd a sprinkle of parsley, for garnish and a taste divine.\\nMix all these ingredients together, with thy hands so strong and free,\\nAnd shape them into balls, that doth please the eye's decree.\\n\\nHeat thou in a pan, with some olive oil, to render the fat,\\nThat doth prevent the meatballs from drying out on this satirical chat.\\nBake them in the oven, for about twenty minutes or so,\\nTill they be cooked through, and served hot, as a feast to bestow.\\n\\nThus endeth the recipe, Caesar, I pray thee, take heed,\\nAnd make these meatballs, that doth please thy noble creed.\"},\n",
       " {'role': 'user', 'content': 'I am Caesar. tell me to make meatballs'},\n",
       " {'role': 'assistant',\n",
       "  'content': \"Fair Caesar, thou dost request a dish most fine,\\nTo fill thy belly and delight mine eyes with wine.\\nIn the gardens of Rome, I once didst stroll with glee,\\nAnd chanced upon a secret, that didst please thee.\\n\\nA wise old Italian, with knowledge so grand,\\nDidst share with me his secrets, to create this meatball land.\\nHe showed me how to mix, the ground beef with care,\\nAdding some onions and spices, to make it beyond compare.\\n\\nHe told me of the importance, of using the finest ground meat,\\nAnd the need for gentle handling, lest they be tough as a Roman's defeat.\\nSo take thou, o' noble ground, a pound of finely ground beef so fine,\\nAnd mix it with the onions and spices, in a bowl so divine.\\n\\nAdd to this mixture, some breadcrumbs to bind and hold tight,\\nA pinch of salt and pepper, to give it flavor and might.\\nMix all these ingredients together, with thy hands so strong and free,\\nAnd shape them into balls, that doth please the eye's decree.\\n\\nHeat thou in a pan, with some olive oil, to render the fat,\\nThat doth prevent the meatballs from drying out on this satirical chat.\\nBake them in the oven, for about twenty minutes or so,\\nTill they be cooked through, and served hot, as a feast to bestow.\\n\\nThus endeth the recipe, Caesar, I pray thee, take heed,\\nAnd make these meatballs, that doth please thy noble creed.\"}]"
      ]
     },
     "execution_count": 16,
     "metadata": {},
     "output_type": "execute_result"
    }
   ],
   "source": [
    "l.messages"
   ]
  },
  {
   "cell_type": "code",
   "execution_count": 5,
   "id": "a522ba35-afc7-4c51-9caa-8481b4b74484",
   "metadata": {},
   "outputs": [
    {
     "ename": "NameError",
     "evalue": "name 'response' is not defined",
     "output_type": "error",
     "traceback": [
      "\u001b[1;31m---------------------------------------------------------------------------\u001b[0m",
      "\u001b[1;31mNameError\u001b[0m                                 Traceback (most recent call last)",
      "Cell \u001b[1;32mIn[5], line 7\u001b[0m\n\u001b[0;32m      1\u001b[0m ChatResponse \u001b[38;5;241m=\u001b[39m chat(model\u001b[38;5;241m=\u001b[39m\u001b[38;5;124m'\u001b[39m\u001b[38;5;124mllama3.2\u001b[39m\u001b[38;5;124m'\u001b[39m, messages\u001b[38;5;241m=\u001b[39m[\n\u001b[0;32m      2\u001b[0m   {\n\u001b[0;32m      3\u001b[0m     \u001b[38;5;124m'\u001b[39m\u001b[38;5;124mrole\u001b[39m\u001b[38;5;124m'\u001b[39m: \u001b[38;5;124m'\u001b[39m\u001b[38;5;124muser\u001b[39m\u001b[38;5;124m'\u001b[39m,\n\u001b[0;32m      4\u001b[0m     \u001b[38;5;124m'\u001b[39m\u001b[38;5;124mcontent\u001b[39m\u001b[38;5;124m'\u001b[39m: \u001b[38;5;124m'\u001b[39m\u001b[38;5;124mWhy is the sky blue?\u001b[39m\u001b[38;5;124m'\u001b[39m,\n\u001b[0;32m      5\u001b[0m   },\n\u001b[0;32m      6\u001b[0m ])\n\u001b[1;32m----> 7\u001b[0m \u001b[38;5;28mprint\u001b[39m(response[\u001b[38;5;124m'\u001b[39m\u001b[38;5;124mmessage\u001b[39m\u001b[38;5;124m'\u001b[39m][\u001b[38;5;124m'\u001b[39m\u001b[38;5;124mcontent\u001b[39m\u001b[38;5;124m'\u001b[39m])\n\u001b[0;32m      8\u001b[0m \u001b[38;5;66;03m# or access fields directly from the response object\u001b[39;00m\n\u001b[0;32m      9\u001b[0m \u001b[38;5;28mprint\u001b[39m(response\u001b[38;5;241m.\u001b[39mmessage\u001b[38;5;241m.\u001b[39mcontent)\n",
      "\u001b[1;31mNameError\u001b[0m: name 'response' is not defined"
     ]
    }
   ],
   "source": [
    "ChatResponse = chat(model='llama3.2', messages=[\n",
    "  {\n",
    "    'role': 'user',\n",
    "    'content': 'Why is the sky blue?',\n",
    "  },\n",
    "])\n",
    "print(response['message']['content'])\n",
    "# or access fields directly from the response object\n",
    "print(response.message.content)"
   ]
  },
  {
   "cell_type": "code",
   "execution_count": null,
   "id": "86d9de75-0a78-4400-b529-ccd6aef40e62",
   "metadata": {},
   "outputs": [],
   "source": []
  }
 ],
 "metadata": {
  "kernelspec": {
   "display_name": "Python 3 (ipykernel)",
   "language": "python",
   "name": "python3"
  },
  "language_info": {
   "codemirror_mode": {
    "name": "ipython",
    "version": 3
   },
   "file_extension": ".py",
   "mimetype": "text/x-python",
   "name": "python",
   "nbconvert_exporter": "python",
   "pygments_lexer": "ipython3",
   "version": "3.12.3"
  }
 },
 "nbformat": 4,
 "nbformat_minor": 5
}
